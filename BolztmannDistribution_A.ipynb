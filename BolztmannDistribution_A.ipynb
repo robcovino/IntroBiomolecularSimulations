{
  "nbformat": 4,
  "nbformat_minor": 0,
  "metadata": {
    "colab": {
      "provenance": [],
      "authorship_tag": "ABX9TyOiz9aLHB4+oIJpomWnpdDV",
      "include_colab_link": true
    },
    "kernelspec": {
      "name": "python3",
      "display_name": "Python 3"
    },
    "language_info": {
      "name": "python"
    }
  },
  "cells": [
    {
      "cell_type": "markdown",
      "metadata": {
        "id": "view-in-github",
        "colab_type": "text"
      },
      "source": [
        "<a href=\"https://colab.research.google.com/github/robcovino/IntroBiomolecularSimulations/blob/main/BolztmannDistribution_A.ipynb\" target=\"_parent\"><img src=\"https://colab.research.google.com/assets/colab-badge.svg\" alt=\"Open In Colab\"/></a>"
      ]
    },
    {
      "cell_type": "code",
      "execution_count": 1,
      "metadata": {
        "id": "kLo_cJZ9co6Y"
      },
      "outputs": [],
      "source": [
        "import matplotlib as mpl # matplotlib library for plotting and visualization\n",
        "import matplotlib.pylab as plt # matplotlib library for plotting and visualization\n",
        "import numpy as np #numpy library for numerical manipulation, especially suited for data arrays\n",
        "from numpy import exp\n",
        "import warnings\n",
        "warnings.filterwarnings('ignore')\n",
        "\n",
        "# Set the Boltzmann constant in Kcal/(mol*K)\n",
        "#In Kcal/mol\n",
        "#kT=RT/N_a\n",
        "#R=k*N_a (Kcal/(mol*K)\n",
        "kb=0.001985875"
      ]
    },
    {
      "cell_type": "markdown",
      "source": [
        "Credit: Initial part adapted from https://colab.research.google.com/github/paulrobustelli/python_demos/blob/main/Boltzmann_Demo_Student.ipynb#scrollTo=W2W_k3idp5cB by Paul Robustelli."
      ],
      "metadata": {
        "id": "770ZXCld3p04"
      }
    },
    {
      "cell_type": "markdown",
      "source": [
        "We are going to examine some preoperties of the Boltzmann Distribution.  We are going to explore how temperature, energy level spacing, and degenercy affect the populations of molecular energy levels.\n",
        "\n",
        "To review, the ratio of the populations between two molecular energy levels is governed by the **Boltzmann Population Ratio**. where $N_i$\n",
        "is the population of configuration i, $N_j$ is the popuulation of configuration j, ${\\epsilon}_i$ is the energy of configuration i and ${\\epsilon}_j$ is the energy of configuration j. Remember that $N_i ∝ P_i$, where $P_i$ is the probability of configuration i.\n",
        "\n",
        "\n",
        "$\\LARGE \\frac{N_i}{N_j} =\\frac{e^{-\\beta\\epsilon_i}}{e^{-\\beta\\epsilon_j}}=e^{-\\beta(\\epsilon_j-\\epsilon_i)}$ \n",
        "\n",
        "$\\LARGE \\beta=\\frac{1}{kT}$"
      ],
      "metadata": {
        "id": "-oMyN6hIdEr1"
      }
    },
    {
      "cell_type": "markdown",
      "source": [
        "Q: write a function that takes as input the energies $ϵ_j$ and $ϵ_i$ and the temperature $T$ and returns the populations of $N_i$ and $N_j$.\n",
        "\n",
        "Q: write another function that plots the results.\n",
        "\n",
        "Tip: use \n",
        "\n",
        "```\n",
        "plt.bar(i,p_i)\n",
        "plt.xlabel(\"Config\",size=20)\n",
        "plt.ylabel(\"Population\",size=20)\n",
        "plt.xticks(size=20)\n",
        "plt.yticks(size=20)\n",
        "```\n",
        "\n"
      ],
      "metadata": {
        "id": "8iVXxadDdCI9"
      }
    },
    {
      "cell_type": "code",
      "source": [
        "def populations_boltzmann( energies, T):\n",
        "  #unnormalized populations\n",
        "  populations = np.exp(- energies / (kb * T))\n",
        "  z = np.sum(populations)\n",
        "  return populations / z "
      ],
      "metadata": {
        "id": "1-eq9tt5dCRD"
      },
      "execution_count": 2,
      "outputs": []
    },
    {
      "cell_type": "code",
      "source": [
        "populations_boltzmann(energies=np.array([5, 6]), T=300)"
      ],
      "metadata": {
        "colab": {
          "base_uri": "https://localhost:8080/"
        },
        "id": "jAMoGqghgczd",
        "outputId": "341da1cd-a970-44b7-f1c5-22b8fab82236"
      },
      "execution_count": 3,
      "outputs": [
        {
          "output_type": "execute_result",
          "data": {
            "text/plain": [
              "array([0.84270862, 0.15729138])"
            ]
          },
          "metadata": {},
          "execution_count": 3
        }
      ]
    },
    {
      "cell_type": "markdown",
      "source": [
        "Q: First we will consider two energy levels, can you find an energy level spacing (in Kcal/mol) where the upper energy is population to ~10% of the lower energy level?  ~50% of the lower energy level?\n"
      ],
      "metadata": {
        "id": "rN9wllgqdCZl"
      }
    },
    {
      "cell_type": "code",
      "source": [
        "populations_boltzmann(energies=np.array([5, 5.5957625]), T=300)"
      ],
      "metadata": {
        "colab": {
          "base_uri": "https://localhost:8080/"
        },
        "id": "NbOB9cGkg7n9",
        "outputId": "6b220681-a638-44a6-fb07-65b22c2e8dc4"
      },
      "execution_count": 4,
      "outputs": [
        {
          "output_type": "execute_result",
          "data": {
            "text/plain": [
              "array([0.73105858, 0.26894142])"
            ]
          },
          "metadata": {},
          "execution_count": 4
        }
      ]
    },
    {
      "cell_type": "code",
      "source": [
        "populations_boltzmann(energies=np.array([5, 5.5]), T=300)"
      ],
      "metadata": {
        "colab": {
          "base_uri": "https://localhost:8080/"
        },
        "id": "KPqI0yb8hOHe",
        "outputId": "ea7f9ac3-46c9-4d05-9f5c-6b26f5e822b8"
      },
      "execution_count": 5,
      "outputs": [
        {
          "output_type": "execute_result",
          "data": {
            "text/plain": [
              "array([0.69830947, 0.30169053])"
            ]
          },
          "metadata": {},
          "execution_count": 5
        }
      ]
    },
    {
      "cell_type": "markdown",
      "source": [
        "Q: How much is a $k_B T$ in these units? "
      ],
      "metadata": {
        "id": "UbOjbQx6jP8i"
      }
    },
    {
      "cell_type": "code",
      "source": [
        "0.001985875 * 300"
      ],
      "metadata": {
        "colab": {
          "base_uri": "https://localhost:8080/"
        },
        "id": "8yiN5HKzjYob",
        "outputId": "debeb440-4ecd-4a77-fd4a-2b3a63e80629"
      },
      "execution_count": 6,
      "outputs": [
        {
          "output_type": "execute_result",
          "data": {
            "text/plain": [
              "0.5957625"
            ]
          },
          "metadata": {},
          "execution_count": 6
        }
      ]
    },
    {
      "cell_type": "markdown",
      "source": [
        "Q: How do the populations change by keeping the same energy levels but raising temperature to T=700 K?"
      ],
      "metadata": {
        "id": "RQkrBhBlhab8"
      }
    },
    {
      "cell_type": "code",
      "source": [
        "populations_boltzmann(energies=np.array([5, 5.5]), T=700)"
      ],
      "metadata": {
        "colab": {
          "base_uri": "https://localhost:8080/"
        },
        "id": "1wNJzRQWhlia",
        "outputId": "9126d191-cb40-44b3-d16c-8e737f3a159b"
      },
      "execution_count": 7,
      "outputs": [
        {
          "output_type": "execute_result",
          "data": {
            "text/plain": [
              "array([0.58896372, 0.41103628])"
            ]
          },
          "metadata": {},
          "execution_count": 7
        }
      ]
    },
    {
      "cell_type": "markdown",
      "source": [
        "Q: What is the general effect of temperature on the populations given an energy gap?\n",
        "\n",
        "Generalize the function that you wrote to calculate Boltzmann distributed populations to N configurations with different energies. \n",
        "\n",
        "Q: calculate the distribution of populations for a linear ladder of energies."
      ],
      "metadata": {
        "id": "vCMKWHw7jgX6"
      }
    },
    {
      "cell_type": "code",
      "source": [
        "p = populations_boltzmann(energies=np.linspace(5, 8, 10), T=300)\n",
        "print(p)"
      ],
      "metadata": {
        "colab": {
          "base_uri": "https://localhost:8080/"
        },
        "id": "bJdwJ_puhllA",
        "outputId": "c01664ef-331b-46cb-db45-58eea5d546e4"
      },
      "execution_count": 8,
      "outputs": [
        {
          "output_type": "stream",
          "name": "stdout",
          "text": [
            "[0.43010764 0.24580252 0.14047385 0.0802795  0.04587899 0.02621941\n",
            " 0.01498415 0.0085633  0.00489385 0.00279679]\n"
          ]
        }
      ]
    },
    {
      "cell_type": "code",
      "source": [
        "plt.bar(range(1, len(p) + 1),p)\n",
        "plt.xlabel(\"Config\",size=20)\n",
        "plt.ylabel(\"Population\",size=20)\n",
        "plt.xticks(size=20)\n",
        "plt.yticks(size=20)"
      ],
      "metadata": {
        "colab": {
          "base_uri": "https://localhost:8080/",
          "height": 424
        },
        "id": "jzHzMS_ShlnX",
        "outputId": "db4be3a9-d8aa-45c2-a1bc-9526819fa19e"
      },
      "execution_count": 9,
      "outputs": [
        {
          "output_type": "execute_result",
          "data": {
            "text/plain": [
              "(array([0. , 0.1, 0.2, 0.3, 0.4, 0.5]),\n",
              " [Text(0, 0, ''),\n",
              "  Text(0, 0, ''),\n",
              "  Text(0, 0, ''),\n",
              "  Text(0, 0, ''),\n",
              "  Text(0, 0, ''),\n",
              "  Text(0, 0, '')])"
            ]
          },
          "metadata": {},
          "execution_count": 9
        },
        {
          "output_type": "display_data",
          "data": {
            "text/plain": [
              "<Figure size 432x288 with 1 Axes>"
            ],
            "image/png": "[encoded data removed]"
          },
          "metadata": {
            "needs_background": "light"
          }
        }
      ]
    },
    {
      "cell_type": "markdown",
      "source": [
        "Now we treat configurations as a continous variable $x$ described by a continous Boltzmann probability distribution $p(x)$.\n",
        "\n",
        "Consider the following potential energy function \n",
        "\n",
        "$V(x) = \\frac{10}{\\beta}(x-5)^2$ \n",
        "\n",
        "Q: What does it mean to write this energy function with a inverse beta constant?\n",
        "\n",
        "Q: Can you plot the function on paper without the computer? How is a function like that known in geometry?\n",
        "\n",
        "Q: Now write a python function that evaluates the energy, and plot it. In what range should we plot it and why can you be sure about that? Does the computer generated plot correspond to your manual one?"
      ],
      "metadata": {
        "id": "2sDC37ob3ubH"
      }
    },
    {
      "cell_type": "code",
      "source": [
        "def harmonic(x, beta=1):\n",
        "    return 10 / beta * (x - 5)**2"
      ],
      "metadata": {
        "id": "rqTCxo3s4Kq2"
      },
      "execution_count": 10,
      "outputs": []
    },
    {
      "cell_type": "code",
      "source": [
        "x = np.linspace(4.2,5.75,100)\n",
        "vx = harmonic(x)\n",
        "plt.plot(x, vx)"
      ],
      "metadata": {
        "colab": {
          "base_uri": "https://localhost:8080/",
          "height": 283
        },
        "id": "vBvWzpex4nt7",
        "outputId": "e67c52e6-7424-4ed1-9cba-b9669617d2f2"
      },
      "execution_count": 11,
      "outputs": [
        {
          "output_type": "execute_result",
          "data": {
            "text/plain": [
              "[<matplotlib.lines.Line2D at 0x7f2d09fc6760>]"
            ]
          },
          "metadata": {},
          "execution_count": 11
        },
        {
          "output_type": "display_data",
          "data": {
            "text/plain": [
              "<Figure size 432x288 with 1 Axes>"
            ],
            "image/png": "[encoded data removed]"
          },
          "metadata": {
            "needs_background": "light"
          }
        }
      ]
    },
    {
      "cell_type": "markdown",
      "source": [
        "Q: What is the corresponding equilibrium (unnormalized) Boltzmann distribution? Again, write it down analytically, try to plot it without the computer, then write a python function that evaluates and plots it."
      ],
      "metadata": {
        "id": "3cnr97pW5dG7"
      }
    },
    {
      "cell_type": "code",
      "source": [
        "def Boltzmann(vx, beta=1):\n",
        "  return np.exp(-beta * vx)"
      ],
      "metadata": {
        "id": "kf_dxPJw4wYg"
      },
      "execution_count": 12,
      "outputs": []
    },
    {
      "cell_type": "code",
      "source": [
        "px = Boltzmann(vx)\n",
        "plt.plot(x, px)"
      ],
      "metadata": {
        "colab": {
          "base_uri": "https://localhost:8080/",
          "height": 283
        },
        "id": "5oaSRdUG59YM",
        "outputId": "29a429b7-0c50-42b0-8c09-d445413ee112"
      },
      "execution_count": 13,
      "outputs": [
        {
          "output_type": "execute_result",
          "data": {
            "text/plain": [
              "[<matplotlib.lines.Line2D at 0x7f2d09f44700>]"
            ]
          },
          "metadata": {},
          "execution_count": 13
        },
        {
          "output_type": "display_data",
          "data": {
            "text/plain": [
              "<Figure size 432x288 with 1 Axes>"
            ],
            "image/png": "[encoded data removed]"
          },
          "metadata": {
            "needs_background": "light"
          }
        }
      ]
    },
    {
      "cell_type": "markdown",
      "source": [
        "A: Calculate the partition function $Z(\\beta)$ (the normalization constant of Boltzmann distribution). Remember that you can use the formula for a Gaussian integral \n",
        "\n",
        "$\\int dx e^{-a(x+b)^2}=(\\frac{\\pi}{a})^{1/2}$\n",
        "\n",
        "You can check that your calculation is correct by numerically calculating the same integral with python completing the code below."
      ],
      "metadata": {
        "id": "Vi_QBzT-7rYo"
      }
    },
    {
      "cell_type": "code",
      "source": [
        "from scipy.integrate import quad\n",
        "\n",
        "def integrand(x):\n",
        "  return np.exp( - 10  * (x - 5) ** 2 )\n",
        "\n",
        "I = quad(integrand, -np.inf, np.inf)"
      ],
      "metadata": {
        "id": "rWXLkxzA67hH"
      },
      "execution_count": 14,
      "outputs": []
    },
    {
      "cell_type": "markdown",
      "source": [
        "Now let's consider a more complex example. Suppose we want to study a system in the canonical ensemble, characterized\n",
        "  by the energy function:\n",
        "  $V\\left(x\\right)=\\frac{1}{\\beta}\\left(x^{4}+\\frac{9}{2}x^{3}+x^{2}-7x+\\frac{21}{2}\\right)$\n",
        "\n",
        "  where $\\beta=(k_{B}T)^{-1}$.\n",
        "\n",
        "Q: Use python to plot it. \n",
        "- What is the main feature of the function? Can you identify some ``states''?\n",
        "- Try to guess using your intuition where the system will be most probably be found. \n",
        "- Can you sketch the possible probability distribution at equilibrium?"
      ],
      "metadata": {
        "id": "Eys8qe41CsLC"
      }
    },
    {
      "cell_type": "code",
      "source": [
        "def V_2(x, beta):\n",
        "  return 1./beta * (x**4 + 9/2 * x**3 + x**2 -7*x + 21/2)"
      ],
      "metadata": {
        "id": "jOFEf_x-F9fB"
      },
      "execution_count": 15,
      "outputs": []
    },
    {
      "cell_type": "code",
      "source": [
        "x = np.linspace(-4.2,2,100)\n",
        "vx = V_2(x, beta=1)\n",
        "\n",
        "plt.plot(x, vx)\n",
        "plt.plot(x, 10*Boltzmann(vx))"
      ],
      "metadata": {
        "colab": {
          "base_uri": "https://localhost:8080/",
          "height": 283
        },
        "id": "YxBHnNtdGR8j",
        "outputId": "0c42b56f-3fdc-4358-c79d-0eca6949d261"
      },
      "execution_count": 16,
      "outputs": [
        {
          "output_type": "execute_result",
          "data": {
            "text/plain": [
              "[<matplotlib.lines.Line2D at 0x7f2d08307550>]"
            ]
          },
          "metadata": {},
          "execution_count": 16
        },
        {
          "output_type": "display_data",
          "data": {
            "text/plain": [
              "<Figure size 432x288 with 1 Axes>"
            ],
            "image/png": "[encoded data removed]"
          },
          "metadata": {
            "needs_background": "light"
          }
        }
      ]
    },
    {
      "cell_type": "markdown",
      "source": [
        "Q: You should be able to get the analytic expression for the probability distribution at equilibrium (in the canonical ensemble), but you will not be as easily able to plot it. However, this should not be necessary. Use the harmonic approximation to study the PDF at equilibrium of the system. Try to quantify how good the harmonic approximation is."
      ],
      "metadata": {
        "id": "oZFYhmbTF9xi"
      }
    },
    {
      "cell_type": "markdown",
      "source": [
        "$V' = 1/\\beta (4x^3 + 3/2x^2 + 2x + -7)$"
      ],
      "metadata": {
        "id": "DQoFcAZNHoDe"
      }
    },
    {
      "cell_type": "code",
      "source": [],
      "metadata": {
        "id": "g5Qt7U7UF20Y"
      },
      "execution_count": 16,
      "outputs": []
    },
    {
      "cell_type": "markdown",
      "source": [
        "Q: If you are able to distinguish between states, use the harmonic approximation developed at the previous point to calculate the probability for the system to be in each of them. Where will the system mostly be found? Does this confirm your first intuitive sketch? If not, what did you miss?\n",
        "Now you can numerically evaluate the Bolztmann distribution at equilibrium using the computer. How good was your harmonic approximation calculation? Does the overall picture change?"
      ],
      "metadata": {
        "id": "20IkvQXGFcPW"
      }
    },
    {
      "cell_type": "code",
      "source": [],
      "metadata": {
        "id": "Z1Vfvcc__M6G"
      },
      "execution_count": 16,
      "outputs": []
    },
    {
      "cell_type": "markdown",
      "source": [
        "Q: Reload the time series of the first notebook and estimate the potential energy function that originated it."
      ],
      "metadata": {
        "id": "zr5N34SiSW1f"
      }
    },
    {
      "cell_type": "code",
      "source": [],
      "metadata": {
        "id": "zHOAlshxSjqD"
      },
      "execution_count": 16,
      "outputs": []
    }
  ]
}