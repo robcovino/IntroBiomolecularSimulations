{
  "nbformat": 4,
  "nbformat_minor": 0,
  "metadata": {
    "colab": {
      "provenance": [],
      "authorship_tag": "ABX9TyOeL+P+qpN1+kbGTUnH5d8Q",
      "include_colab_link": true
    },
    "kernelspec": {
      "name": "python3",
      "display_name": "Python 3"
    },
    "language_info": {
      "name": "python"
    }
  },
  "cells": [
    {
      "cell_type": "markdown",
      "metadata": {
        "id": "view-in-github",
        "colab_type": "text"
      },
      "source": [
        "<a href=\"https://colab.research.google.com/github/robcovino/IntroBiomolecularSimulations/blob/main/FromEntropy2Boltzmann.ipynb\" target=\"_parent\"><img src=\"https://colab.research.google.com/assets/colab-badge.svg\" alt=\"Open In Colab\"/></a>"
      ]
    },
    {
      "cell_type": "code",
      "execution_count": null,
      "metadata": {
        "id": "UBwGPN1RHLHs"
      },
      "outputs": [],
      "source": [
        "import numpy as np\n",
        "import matplotlib.pyplot as plt\n",
        "plt.style.use('seaborn-notebook')"
      ]
    },
    {
      "cell_type": "markdown",
      "source": [
        "# From Shannon's Entropy to the Boltzmann distribution\n",
        "\n",
        "## Shannon Entropy\n",
        "\n",
        "Shannon introduced the concept of entropy to measure the amount of information that we have about an uncertain event \n",
        "\n",
        "\\begin{equation}\n",
        "S(X) = -C\\sum_{i=1}^N p_i \\log p_i\n",
        "\\end{equation}\n",
        "\n",
        "Q: write a function that evaluates Shannon's entropy for a discret probability distribution of a random event with 5 possible outcomes. Tip: define the discrete probability distribution as a numpy array\n",
        "\n",
        "p = np.array([a., b., c., d., e.])"
      ],
      "metadata": {
        "id": "f7mKC6dzHPxB"
      }
    },
    {
      "cell_type": "code",
      "source": [
        "def ShannonEntropy(p):\n"
      ],
      "metadata": {
        "id": "3LwF8nZPHOgf"
      },
      "execution_count": null,
      "outputs": []
    },
    {
      "cell_type": "code",
      "source": [],
      "metadata": {
        "id": "jFP8HLDlIykS"
      },
      "execution_count": null,
      "outputs": []
    },
    {
      "cell_type": "code",
      "source": [
        "ShannonEntropy(p)"
      ],
      "metadata": {
        "id": "HtlZbveII7TS"
      },
      "execution_count": null,
      "outputs": []
    },
    {
      "cell_type": "markdown",
      "source": [
        "Q: Can you find a pmf for which S is negative? \n",
        "\n",
        "Q: What are the highest and lowest value for S that you find?"
      ],
      "metadata": {
        "id": "bnbunvLGJPbq"
      }
    },
    {
      "cell_type": "code",
      "source": [],
      "metadata": {
        "id": "pTLDGpJAI--s"
      },
      "execution_count": null,
      "outputs": []
    },
    {
      "cell_type": "markdown",
      "source": [
        "Q: Look at the following function. Can you explain what it does?"
      ],
      "metadata": {
        "id": "t54Qk4KENfwN"
      }
    },
    {
      "cell_type": "code",
      "source": [
        "from scipy.stats import binom\n",
        "binom.rvs(1, 0.5, size=(10))"
      ],
      "metadata": {
        "id": "-AB4FELfNkiu"
      },
      "execution_count": null,
      "outputs": []
    },
    {
      "cell_type": "markdown",
      "source": [
        "Q: What is the probability of each outcome (microstate)? \n",
        "\n",
        "Q: Let's assume we are not really interested in the probability of each outcome, but of the coarse-grained (macrostate) quantity that simply counts how many zeros (A) and how many ones (B) we got. Write a code that makes an estimate. Tip. Look up the function numpy.unique and for plotting use plt.bar(x_i, p_i)"
      ],
      "metadata": {
        "id": "KAEdxcGJNtf3"
      }
    },
    {
      "cell_type": "code",
      "source": [
        "N = 200\n"
      ],
      "metadata": {
        "id": "tdQ9jtAzM1yo"
      },
      "execution_count": null,
      "outputs": []
    },
    {
      "cell_type": "code",
      "source": [
        "plt.bar(x_i, p_i)\n",
        "plt.ylabel(\"Probability\")\n",
        "plt.xlabel(\"Outcome\")\n",
        "plt.show()\n"
      ],
      "metadata": {
        "id": "4jkI6CWVPd4B"
      },
      "execution_count": null,
      "outputs": []
    },
    {
      "cell_type": "markdown",
      "source": [
        "Q: How does the probability distribution evolves as a function of the samples? And insteas as a function of the number of elements to distribute between 0 (A) and 1 (B)?"
      ],
      "metadata": {
        "id": "DZbHKNepTa2G"
      }
    },
    {
      "cell_type": "code",
      "source": [],
      "metadata": {
        "id": "ep2wBPofQSr5"
      },
      "execution_count": null,
      "outputs": []
    },
    {
      "cell_type": "code",
      "source": [],
      "metadata": {
        "id": "SAALolcAUGT1"
      },
      "execution_count": null,
      "outputs": []
    },
    {
      "cell_type": "code",
      "source": [],
      "metadata": {
        "id": "pFWIoyijUhdb"
      },
      "execution_count": null,
      "outputs": []
    },
    {
      "cell_type": "markdown",
      "source": [
        "What we observe is a manifestation of a very general principle of Nature. Once you have different ways of organizing microstates into macrostates, the multiplicity of each macrostate determines its probability. \n",
        "\n",
        "This result can also be shown analytically. For this the Stirling approximation is useful: $\\log x! \\approx x \\log x - x$\n",
        "\n",
        "Where $x!$ is \"x factorial\" defined as: $x(x-1)(x-2)(x-3)...2*1$\n",
        "\n",
        "Q: Make a plot to determine how good this approximation is, using scipy.special.factorial()"
      ],
      "metadata": {
        "id": "uWALnJY0U2rJ"
      }
    },
    {
      "cell_type": "code",
      "source": [
        "from scipy.special import factorial\n",
        "\n"
      ],
      "metadata": {
        "id": "fzKRsr2fUylG"
      },
      "execution_count": null,
      "outputs": []
    },
    {
      "cell_type": "code",
      "source": [],
      "metadata": {
        "id": "QemmIuJFVy18"
      },
      "execution_count": null,
      "outputs": []
    },
    {
      "cell_type": "code",
      "source": [],
      "metadata": {
        "id": "wNVYfKfMXpYw"
      },
      "execution_count": null,
      "outputs": []
    }
  ]
}