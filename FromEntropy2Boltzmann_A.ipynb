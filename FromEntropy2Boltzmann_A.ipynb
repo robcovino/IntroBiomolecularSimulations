{
  "nbformat": 4,
  "nbformat_minor": 0,
  "metadata": {
    "colab": {
      "provenance": [],
      "authorship_tag": "ABX9TyPLesTxkKJp8htQBMvNd8o8",
      "include_colab_link": true
    },
    "kernelspec": {
      "name": "python3",
      "display_name": "Python 3"
    },
    "language_info": {
      "name": "python"
    }
  },
  "cells": [
    {
      "cell_type": "markdown",
      "metadata": {
        "id": "view-in-github",
        "colab_type": "text"
      },
      "source": [
        "<a href=\"https://colab.research.google.com/github/robcovino/IntroBiomolecularSimulations/blob/main/FromEntropy2Boltzmann_A.ipynb\" target=\"_parent\"><img src=\"https://colab.research.google.com/assets/colab-badge.svg\" alt=\"Open In Colab\"/></a>"
      ]
    },
    {
      "cell_type": "code",
      "execution_count": 1,
      "metadata": {
        "id": "UBwGPN1RHLHs"
      },
      "outputs": [],
      "source": [
        "import numpy as np\n",
        "import matplotlib.pyplot as plt\n",
        "plt.style.use('seaborn-notebook')"
      ]
    },
    {
      "cell_type": "markdown",
      "source": [
        "# From Shannon's Entropy to the Boltzmann distribution\n",
        "\n",
        "## Shannon Entropy\n",
        "\n",
        "Shannon introduced the concept of entropy to measure the amount of information that we have about an uncertain event \n",
        "\n",
        "\\begin{equation}\n",
        "S(X) = -C\\sum_{i=1}^N p_i \\log p_i\n",
        "\\end{equation}\n",
        "\n",
        "Q: write a function that evaluates Shannon's entropy for a discret probability distribution of a random event with 5 possible outcomes. Tip: define the discrete probability distribution as a numpy array\n",
        "\n",
        "p = np.array([a., b., c., d., e.])"
      ],
      "metadata": {
        "id": "f7mKC6dzHPxB"
      }
    },
    {
      "cell_type": "code",
      "source": [
        "def ShannonEntropy(p):\n",
        "  C = 1\n",
        "  p = p[p > 0]\n",
        "  return - np.sum(p * np.log(p))"
      ],
      "metadata": {
        "id": "3LwF8nZPHOgf"
      },
      "execution_count": 2,
      "outputs": []
    },
    {
      "cell_type": "code",
      "source": [
        "p = np.array([1.,1.,1.,1.,1.])\n",
        "p /= p.sum()"
      ],
      "metadata": {
        "id": "jFP8HLDlIykS"
      },
      "execution_count": 3,
      "outputs": []
    },
    {
      "cell_type": "code",
      "source": [
        "ShannonEntropy(p)"
      ],
      "metadata": {
        "colab": {
          "base_uri": "https://localhost:8080/"
        },
        "id": "HtlZbveII7TS",
        "outputId": "e303d87c-e3dc-4f2b-a0b2-233e5b72cf1d"
      },
      "execution_count": 4,
      "outputs": [
        {
          "output_type": "execute_result",
          "data": {
            "text/plain": [
              "1.6094379124341005"
            ]
          },
          "metadata": {},
          "execution_count": 4
        }
      ]
    },
    {
      "cell_type": "markdown",
      "source": [
        "Q: Can you find a pmf for which S is negative? \n",
        "\n",
        "Q: What are the highest and lowest value for S that you find?"
      ],
      "metadata": {
        "id": "bnbunvLGJPbq"
      }
    },
    {
      "cell_type": "code",
      "source": [
        "ShannonEntropy(np.array([0.,0.,0.,0.,1]))"
      ],
      "metadata": {
        "colab": {
          "base_uri": "https://localhost:8080/"
        },
        "id": "pTLDGpJAI--s",
        "outputId": "726ee974-3a81-496c-f932-0ac15d882d73"
      },
      "execution_count": 5,
      "outputs": [
        {
          "output_type": "execute_result",
          "data": {
            "text/plain": [
              "-0.0"
            ]
          },
          "metadata": {},
          "execution_count": 5
        }
      ]
    },
    {
      "cell_type": "markdown",
      "source": [
        "Q: Look at the following function. Can you explain what it does?"
      ],
      "metadata": {
        "id": "t54Qk4KENfwN"
      }
    },
    {
      "cell_type": "code",
      "source": [
        "from scipy.stats import binom\n",
        "binom.rvs(1, 0.5, size=(10))"
      ],
      "metadata": {
        "colab": {
          "base_uri": "https://localhost:8080/"
        },
        "id": "-AB4FELfNkiu",
        "outputId": "be1bd004-9491-4e10-8445-f89a704e664e"
      },
      "execution_count": 6,
      "outputs": [
        {
          "output_type": "execute_result",
          "data": {
            "text/plain": [
              "array([0, 1, 1, 0, 0, 0, 1, 1, 1, 0])"
            ]
          },
          "metadata": {},
          "execution_count": 6
        }
      ]
    },
    {
      "cell_type": "markdown",
      "source": [
        "Q: What is the probability of each outcome (microstate)? \n",
        "\n",
        "Q: Let's assume we are not really interested in the probability of each outcome, but of the coarse-grained (macrostate) quantity that simply counts how many zeros (A) and how many ones (B) we got. Write a code that makes an estimate. Tip. Look up the function numpy.unique and for plotting use plt.bar(x_i, p_i)"
      ],
      "metadata": {
        "id": "KAEdxcGJNtf3"
      }
    },
    {
      "cell_type": "code",
      "source": [
        "N = 10000\n",
        "outcomes = binom.rvs(1, 0.5, size=(10,N)).sum(axis=0)\n",
        "x_i, c_i = np.unique(outcomes, return_counts=True)\n",
        "p_i = c_i / N"
      ],
      "metadata": {
        "id": "tdQ9jtAzM1yo"
      },
      "execution_count": 7,
      "outputs": []
    },
    {
      "cell_type": "code",
      "source": [
        "plt.bar(x_i, p_i)\n",
        "plt.ylabel(\"Probability\")\n",
        "plt.xlabel(\"Outcome\")\n",
        "plt.show()\n"
      ],
      "metadata": {
        "colab": {
          "base_uri": "https://localhost:8080/",
          "height": 364
        },
        "id": "4jkI6CWVPd4B",
        "outputId": "313fd56a-0d10-4cad-e982-809d4231f693"
      },
      "execution_count": 8,
      "outputs": [
        {
          "output_type": "display_data",
          "data": {
            "text/plain": [
              "<Figure size 576x396 with 1 Axes>"
            ],
            "image/png": "[encoded data removed]"
          },
          "metadata": {
            "needs_background": "light"
          }
        }
      ]
    },
    {
      "cell_type": "markdown",
      "source": [
        "Q: How does the probability distribution evolves as a function of the samples? And insteas as a function of the number of elements to distribute between 0 (A) and 1 (B)?"
      ],
      "metadata": {
        "id": "DZbHKNepTa2G"
      }
    },
    {
      "cell_type": "code",
      "source": [
        "def ElementsInBox(n_particles, N=10000):\n",
        "\n",
        "  outcomes = binom.rvs(1, 0.5, size=(n_particles,N)).sum(axis=0)\n",
        "  x_i, c_i = np.unique(outcomes, return_counts=True)\n",
        "  p_i = c_i / N\n",
        "  plt.bar(x_i, p_i)\n",
        "  plt.ylabel(\"Probability\")\n",
        "  plt.xlabel(\"Outcome\")\n",
        "  plt.show()"
      ],
      "metadata": {
        "id": "ep2wBPofQSr5"
      },
      "execution_count": 9,
      "outputs": []
    },
    {
      "cell_type": "code",
      "source": [
        "ElementsInBox(1000, N=10000)"
      ],
      "metadata": {
        "colab": {
          "base_uri": "https://localhost:8080/",
          "height": 364
        },
        "id": "SAALolcAUGT1",
        "outputId": "ffcc1188-2990-42d4-9db6-c6e3de0067f5"
      },
      "execution_count": 10,
      "outputs": [
        {
          "output_type": "display_data",
          "data": {
            "text/plain": [
              "<Figure size 576x396 with 1 Axes>"
            ],
            "image/png": "[encoded data removed]"
          },
          "metadata": {
            "needs_background": "light"
          }
        }
      ]
    },
    {
      "cell_type": "code",
      "source": [
        "ElementsInBox(5000, N=10000)"
      ],
      "metadata": {
        "colab": {
          "base_uri": "https://localhost:8080/",
          "height": 364
        },
        "id": "pFWIoyijUhdb",
        "outputId": "b6fe81fd-3e49-43a1-fc7a-8b88dd047314"
      },
      "execution_count": 11,
      "outputs": [
        {
          "output_type": "display_data",
          "data": {
            "text/plain": [
              "<Figure size 576x396 with 1 Axes>"
            ],
            "image/png": "[encoded data removed]"
          },
          "metadata": {
            "needs_background": "light"
          }
        }
      ]
    },
    {
      "cell_type": "markdown",
      "source": [
        "What we observe is a manifestation of a very general principle of Nature. Once you have different ways of organizing microstates into macrostates, the multiplicity of each macrostate determines its probability. \n",
        "\n",
        "This result can also be shown analytically. For this the Stirling approximation is useful: $\\log x! \\approx x \\log x - x$\n",
        "\n",
        "Where $x!$ is \"x factorial\" defined as: $x(x-1)(x-2)(x-3)...2*1$\n",
        "\n",
        "Q: Make a plot to determine how good this approximation is, using scipy.special.factorial()"
      ],
      "metadata": {
        "id": "uWALnJY0U2rJ"
      }
    },
    {
      "cell_type": "code",
      "source": [
        "from scipy.special import factorial\n",
        "\n",
        "x = np.logspace(1, 2, 20)\n",
        "y = factorial(x)\n",
        "y_stirling = np.exp(x * np.log(x) - x)"
      ],
      "metadata": {
        "id": "fzKRsr2fUylG"
      },
      "execution_count": 12,
      "outputs": []
    },
    {
      "cell_type": "code",
      "source": [
        "plt.plot(x, y)\n",
        "plt.plot(x, y_stirling)\n",
        "plt.yscale(\"log\")\n",
        "plt.show()"
      ],
      "metadata": {
        "colab": {
          "base_uri": "https://localhost:8080/",
          "height": 350
        },
        "id": "QemmIuJFVy18",
        "outputId": "709b574f-77c1-4ae6-a57e-d15d66a192df"
      },
      "execution_count": 13,
      "outputs": [
        {
          "output_type": "display_data",
          "data": {
            "text/plain": [
              "<Figure size 576x396 with 1 Axes>"
            ],
            "image/png": "[encoded data removed]"
          },
          "metadata": {
            "needs_background": "light"
          }
        }
      ]
    },
    {
      "cell_type": "code",
      "source": [],
      "metadata": {
        "id": "wNVYfKfMXpYw"
      },
      "execution_count": 13,
      "outputs": []
    }
  ]
}