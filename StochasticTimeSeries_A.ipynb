{
  "nbformat": 4,
  "nbformat_minor": 0,
  "metadata": {
    "colab": {
      "provenance": [],
      "authorship_tag": "ABX9TyNplz1uEGoZJ21OJ3c6pkNQ",
      "include_colab_link": true
    },
    "kernelspec": {
      "name": "python3",
      "display_name": "Python 3"
    },
    "language_info": {
      "name": "python"
    }
  },
  "cells": [
    {
      "cell_type": "markdown",
      "metadata": {
        "id": "view-in-github",
        "colab_type": "text"
      },
      "source": [
        "<a href=\"https://colab.research.google.com/github/robcovino/IntroBiomolecularSimulations/blob/main/StochasticTimeSeries_A.ipynb\" target=\"_parent\"><img src=\"https://colab.research.google.com/assets/colab-badge.svg\" alt=\"Open In Colab\"/></a>"
      ]
    },
    {
      "cell_type": "code",
      "execution_count": 1,
      "metadata": {
        "id": "p0EBzYA3PbkI"
      },
      "outputs": [],
      "source": [
        "import numpy as np\n",
        "import matplotlib.pyplot as plt\n",
        "plt.style.use('seaborn-notebook')"
      ]
    },
    {
      "cell_type": "markdown",
      "source": [
        "# From Time series to probability distribution and thermodynamic equilibrium\n",
        "\n",
        "\n",
        "Let's look at the following time series $x(t)$ that was pre-generated and you can just load for your analysis.\n",
        "\n",
        "First, you can download the file at this link:\n",
        "\n",
        "https://hessenbox-a10.rz.uni-frankfurt.de/getlink/fiBYiYwdxF8JxniTMqgLJj/time_series.csv\n",
        "\n",
        "\n",
        "## Using Google Drive to store simulation data\n",
        "\n",
        "Google Colab does not allow users to keep data on their computing nodes. However, we can use Google Drive to read, write, and store our simulations files. Therefore, we suggest to you to:\n",
        "\n",
        "1. Create a folder in your own Google Drive and copy the necessary input files there.\n",
        "2. Copy the path of your created directory. We will use it below."
      ],
      "metadata": {
        "id": "fKyYkvygPliv"
      }
    },
    {
      "cell_type": "code",
      "source": [
        "#@title ## **Import Google Drive**\n",
        "#@markdown Click in the \"Run\" buttom to make your Google Drive accessible.\n",
        "from google.colab import drive\n",
        "\n",
        "drive.flush_and_unmount()\n",
        "drive.mount('/content/drive', force_remount=True)"
      ],
      "metadata": {
        "colab": {
          "base_uri": "https://localhost:8080/"
        },
        "id": "ViWgRD-TXu_s",
        "outputId": "49f8c16b-c5d2-4264-a1c9-58592d0a8a20"
      },
      "execution_count": 2,
      "outputs": [
        {
          "output_type": "stream",
          "name": "stdout",
          "text": [
            "Drive not mounted, so nothing to flush and unmount.\n",
            "Mounted at /content/drive\n"
          ]
        }
      ]
    },
    {
      "cell_type": "code",
      "source": [
        "#@title ## **Load data into a local numpy variable**\n",
        "\n",
        "x = np.genfromtxt(\"drive/MyDrive/IntroBS/time_series.csv\")"
      ],
      "metadata": {
        "id": "Kek8qouWSCYv"
      },
      "execution_count": 3,
      "outputs": []
    },
    {
      "cell_type": "markdown",
      "source": [
        "Q: What does the variable contain? What is the format of the data? How are the data organized? How many data points are there?\n",
        "\n",
        "tip: use len(x) or x.shape"
      ],
      "metadata": {
        "id": "BQGIzJkNa3ox"
      }
    },
    {
      "cell_type": "code",
      "source": [
        "x\n",
        "\n"
      ],
      "metadata": {
        "colab": {
          "base_uri": "https://localhost:8080/"
        },
        "id": "f4wAk7M_Y0yI",
        "outputId": "eadd278d-67bd-4852-8862-c75c1b76f9e0"
      },
      "execution_count": 4,
      "outputs": [
        {
          "output_type": "execute_result",
          "data": {
            "text/plain": [
              "array([-1.        , -1.0173403 , -1.04124908, ..., -0.84661178,\n",
              "       -0.7581781 , -0.75191702])"
            ]
          },
          "metadata": {},
          "execution_count": 4
        }
      ]
    },
    {
      "cell_type": "markdown",
      "source": [
        "Let us now look at the dynamic process that is described by the time series. The easiest way is to plot the first K values. Assuming that the samples in the TS were saved with a frequency $\\Delta t$, it means that considering the first K values corresponds to looking at the TS on a time interval $K \\Delta t$."
      ],
      "metadata": {
        "id": "2ci25qoub6zl"
      }
    },
    {
      "cell_type": "code",
      "source": [
        "#@title ## **Plot first K values of the TS**\n",
        "\n",
        "K = 10\n",
        "\n",
        "plt.plot(x[:K])"
      ],
      "metadata": {
        "colab": {
          "base_uri": "https://localhost:8080/",
          "height": 368
        },
        "id": "jjRjFpbVZpXf",
        "outputId": "199bbf72-2d57-4e13-8584-e4df0e2b2722"
      },
      "execution_count": 5,
      "outputs": [
        {
          "output_type": "execute_result",
          "data": {
            "text/plain": [
              "[<matplotlib.lines.Line2D at 0x7f58dc2cd610>]"
            ]
          },
          "metadata": {},
          "execution_count": 5
        },
        {
          "output_type": "display_data",
          "data": {
            "text/plain": [
              "<Figure size 576x396 with 1 Axes>"
            ],
            "image/png": "[encoded data removed]"
          },
          "metadata": {
            "needs_background": "light"
          }
        }
      ]
    },
    {
      "cell_type": "markdown",
      "source": [
        "Q: Inspect the TS at increasing values of K. \n",
        "1. What do you notice? \n",
        "2. What are the typical scales of the process? \n",
        "3. Can you discern any regularities? \n",
        "4. What quantities would you introduce to describe the process? \n",
        "5. What are the challenges you identify to describe the process? \n",
        "6. Can you ever make any general statement about the process? Or do you always need to see more data? "
      ],
      "metadata": {
        "id": "9qdZIvN2dk0b"
      }
    },
    {
      "cell_type": "code",
      "source": [
        "K = 500000\n",
        "\n",
        "plt.plot(x[:K])"
      ],
      "metadata": {
        "colab": {
          "base_uri": "https://localhost:8080/",
          "height": 368
        },
        "id": "ND4OPOErcg5T",
        "outputId": "b6f015b3-e53d-44d5-aaf2-3f37b37db848"
      },
      "execution_count": 6,
      "outputs": [
        {
          "output_type": "execute_result",
          "data": {
            "text/plain": [
              "[<matplotlib.lines.Line2D at 0x7f5874186220>]"
            ]
          },
          "metadata": {},
          "execution_count": 6
        },
        {
          "output_type": "display_data",
          "data": {
            "text/plain": [
              "<Figure size 576x396 with 1 Axes>"
            ],
            "image/png": "[encoded data removed]"
          },
          "metadata": {
            "needs_background": "light"
          }
        }
      ]
    },
    {
      "cell_type": "markdown",
      "source": [
        "## **Calculating the average (mean) as a function of time**\n",
        "\n",
        "Q: Write a function that plots the average of x as a function of t instead of x \n",
        "itself. The function should associate each K to the average of x up until index K.\n",
        "\n",
        "Tip: a = np.zeros(N) makes an array of zeros long N, which you can use to store values in a for loop."
      ],
      "metadata": {
        "id": "mNVU_eO3et6L"
      }
    },
    {
      "cell_type": "code",
      "source": [
        "def mean_ts_1(x, K):\n",
        "  values = np.zeros(K)\n",
        "  for i in range(K):\n",
        "    values[i] = x[:i+1].mean()\n",
        "  return values\n",
        "\n",
        "# alternative way of writing that is much much faster\n",
        "\n",
        "def mean_ts_2(x, K):\n",
        "  values = np.cumsum(x[:K])\n",
        "  values /= range(1, K + 1)\n",
        "  return values"
      ],
      "metadata": {
        "id": "_VMbbwG-fXqV"
      },
      "execution_count": 7,
      "outputs": []
    },
    {
      "cell_type": "code",
      "source": [
        "#plt.plot(mean_ts_1(x, 500000))\n",
        "plt.plot(mean_ts_2(x, 2000000))"
      ],
      "metadata": {
        "colab": {
          "base_uri": "https://localhost:8080/",
          "height": 381
        },
        "id": "mNqahX8SflBc",
        "outputId": "30f7cc3c-349a-4bb1-bbe6-061ce54d6fd3"
      },
      "execution_count": 8,
      "outputs": [
        {
          "output_type": "execute_result",
          "data": {
            "text/plain": [
              "[<matplotlib.lines.Line2D at 0x7f58702a41f0>]"
            ]
          },
          "metadata": {},
          "execution_count": 8
        },
        {
          "output_type": "display_data",
          "data": {
            "text/plain": [
              "<Figure size 576x396 with 1 Axes>"
            ],
            "image/png": "[encoded data removed]"
          },
          "metadata": {
            "needs_background": "light"
          }
        }
      ]
    },
    {
      "cell_type": "markdown",
      "source": [
        "Q: How can you use this new tool to answer some of the questions of the previous point?\n",
        "\n",
        "## Having access to sampling of different time scales\n",
        "\n",
        "Q: Now repeat the same analysis you did before, assuming that all the data you got are y = x[:6000]. Repeat the analysis you performed so far. Would your general methodological conclusions change? Would you be able to make the same statement about the particular system?"
      ],
      "metadata": {
        "id": "EE98VcLHi_1_"
      }
    },
    {
      "cell_type": "code",
      "source": [
        "#plt.plot(x[:6000])\n",
        "plt.plot(mean_ts_2(x, 6000))"
      ],
      "metadata": {
        "colab": {
          "base_uri": "https://localhost:8080/",
          "height": 368
        },
        "id": "85BbSZwJgdGD",
        "outputId": "8b50c95c-7201-448a-836a-129b0cbaf40d"
      },
      "execution_count": 9,
      "outputs": [
        {
          "output_type": "execute_result",
          "data": {
            "text/plain": [
              "[<matplotlib.lines.Line2D at 0x7f5861dc40a0>]"
            ]
          },
          "metadata": {},
          "execution_count": 9
        },
        {
          "output_type": "display_data",
          "data": {
            "text/plain": [
              "<Figure size 576x396 with 1 Axes>"
            ],
            "image/png": "[encoded data removed]"
          },
          "metadata": {
            "needs_background": "light"
          }
        }
      ]
    },
    {
      "cell_type": "markdown",
      "source": [
        "## From time series to probability distributions\n",
        "\n",
        "Let's continue considering the case where all the data we have are y = x[:6000]. We peformed the analysis above and are now convinced that our time series is *stationary* and want to make switch to a probabilistic description. \n",
        "\n",
        "The simplest way of doing that is to calculate a *histogram* from our time series. This corresponds to estimating probabilities as frequencies of a stationary process. It comprises the following steps:\n",
        "\n",
        "1. Bin your variable, ie, coarse-grain your data into a discrete set of small intervals (bins or microstates). \n",
        "2. Count how often your time series is in a given bin.\n",
        "3. Plot a bar for each bin. The height of the bin should be rescaled, such that the total area described the all bars is 1 (probability must be normalized). \n",
        "\n",
        "Q: Write a function that makes a histogram of y (Note: there are functions that do that for you, but it's good to write your own function to appreciate each steps)."
      ],
      "metadata": {
        "id": "wi6NM0W2lo_t"
      }
    },
    {
      "cell_type": "code",
      "source": [
        "def histogram_a(data, n_bins):\n",
        "  "
      ],
      "metadata": {
        "id": "0oy8LBe8qsVN",
        "colab": {
          "base_uri": "https://localhost:8080/",
          "height": 134
        },
        "outputId": "f44ab3c8-3b7b-4f0a-c116-b934be34201d"
      },
      "execution_count": 10,
      "outputs": [
        {
          "output_type": "error",
          "ename": "IndentationError",
          "evalue": "ignored",
          "traceback": [
            "\u001b[0;36m  File \u001b[0;32m\"<ipython-input-10-2f5c764186cb>\"\u001b[0;36m, line \u001b[0;32m2\u001b[0m\n\u001b[0;31m    \u001b[0m\n\u001b[0m    ^\u001b[0m\n\u001b[0;31mIndentationError\u001b[0m\u001b[0;31m:\u001b[0m expected an indented block\n"
          ]
        }
      ]
    },
    {
      "cell_type": "code",
      "source": [
        "# pyplot function\n",
        "y = x[:6000]\n",
        "plt.hist(y, bins=50)\n",
        "plt.show()"
      ],
      "metadata": {
        "id": "ExT9VbOKrMih"
      },
      "execution_count": null,
      "outputs": []
    },
    {
      "cell_type": "markdown",
      "source": [
        "Q: Now let's use the new histogram tool to investigate the preivous time series. What are the pros and cons of this new way of looking at our data?\n",
        "\n",
        "Q: What statement can we make about the data contained in y?\n",
        "\n"
      ],
      "metadata": {
        "id": "-850XFWnrpdz"
      }
    },
    {
      "cell_type": "code",
      "source": [
        "plt.hist(x[:3000000], bins=50, density=True)\n",
        "plt.show()"
      ],
      "metadata": {
        "id": "_bAeFXd-rVA3"
      },
      "execution_count": null,
      "outputs": []
    },
    {
      "cell_type": "markdown",
      "source": [
        "Let's go back to the original data set x and investigate a histogram at increasing number of samples. \n",
        "\n",
        "Q: When are we actually allowed to interpret the histogram as an estimate of probabilities? \n",
        "\n",
        "Q: What guarantees us that x is actually y?\n",
        "\n",
        "## Coarse-graining of our data\n",
        "\n",
        "Now that you have a deep understanding of your data, you might agree that to make many of the statements and considerations that we discussed so far we do not need to take into account all details contained in x, ie, we do not need to look at the data with the highest resolution. We can coarse-grain the data, ie, look at the data with lower resolution, and get out the same sort of understanding.\n",
        "\n",
        "Q: How would you coarse-grain your data and why? Can you identify some (macro)states?\n",
        "\n",
        "Q: Use the plt.hist function to plot a histogram of your coarse grained data. Tip: Use a custom version of bins."
      ],
      "metadata": {
        "id": "qbjNWDAdsXWG"
      }
    },
    {
      "cell_type": "code",
      "source": [
        "print(x.min())\n",
        "print(x.max())\n",
        "\n"
      ],
      "metadata": {
        "id": "SqeZNd7Yrg_P"
      },
      "execution_count": null,
      "outputs": []
    },
    {
      "cell_type": "code",
      "source": [
        "c_i, _, _ = plt.hist(x, bins=[-1.7,-0.2, 2.5, 3.95])\n",
        "plt.show()"
      ],
      "metadata": {
        "id": "emFWZf2Ntycq"
      },
      "execution_count": null,
      "outputs": []
    },
    {
      "cell_type": "code",
      "source": [
        "c_i / len(x)"
      ],
      "metadata": {
        "id": "oYJmHOHNudoI"
      },
      "execution_count": null,
      "outputs": []
    },
    {
      "cell_type": "markdown",
      "source": [
        "Q: Use the previous tools to write a function that calculates the relative probability of 2 states. When does this number not depend on time any more? What must the underlying time series look like for this condition to be satisfied?"
      ],
      "metadata": {
        "id": "Seq6MXHCvjaO"
      }
    },
    {
      "cell_type": "code",
      "source": [
        "def relative_weights(data, bins):\n",
        "  c_i, _, _ = plt.hist(data, bins=bins)\n",
        "  return c_i / len(data)\n"
      ],
      "metadata": {
        "id": "093381Ehu-3G"
      },
      "execution_count": null,
      "outputs": []
    },
    {
      "cell_type": "code",
      "source": [
        "relative_weights(x[:500000],bins=[-1.7,-0.2, 2.5] )"
      ],
      "metadata": {
        "id": "aq3qB5W1wTBK"
      },
      "execution_count": null,
      "outputs": []
    },
    {
      "cell_type": "code",
      "source": [
        "ratio = np.zeros(100)\n",
        "bins=[-1.7,-0.2, 2.5]\n",
        "data = x[:500000]\n",
        "for idx, k in enumerate(np.logspace(3, 7, 100)):\n",
        "  c_i, _, _ = plt.hist(x[:int(k)], bins=bins)\n",
        "  ratio[idx] = c_i[0] / c_i[1]"
      ],
      "metadata": {
        "id": "acGfkxt1wZgg"
      },
      "execution_count": null,
      "outputs": []
    },
    {
      "cell_type": "code",
      "source": [
        "plt.plot(ratio)"
      ],
      "metadata": {
        "id": "qxbjWtZQxagr"
      },
      "execution_count": null,
      "outputs": []
    },
    {
      "cell_type": "code",
      "source": [
        "c, b, _ = plt.hist(x, bins=50)"
      ],
      "metadata": {
        "colab": {
          "base_uri": "https://localhost:8080/",
          "height": 350
        },
        "id": "ElII-r6uRU4k",
        "outputId": "68c0eecf-761a-4f4e-eba7-9617d57ccee2"
      },
      "execution_count": 16,
      "outputs": [
        {
          "output_type": "display_data",
          "data": {
            "text/plain": [
              "<Figure size 576x396 with 1 Axes>"
            ],
            "image/png": "[encoded data removed]"
          },
          "metadata": {
            "needs_background": "light"
          }
        }
      ]
    },
    {
      "cell_type": "code",
      "source": [
        "p = c /c.sum()\n",
        "print(p)"
      ],
      "metadata": {
        "colab": {
          "base_uri": "https://localhost:8080/"
        },
        "id": "zWpVNRuHRmfp",
        "outputId": "6198abdc-ea0f-4838-f655-e3b5e04cb5e1"
      },
      "execution_count": 15,
      "outputs": [
        {
          "output_type": "stream",
          "name": "stdout",
          "text": [
            "[1.16999988e-05 3.29799967e-04 3.43169966e-03 1.59857984e-02\n",
            " 3.88865961e-02 5.81735942e-02 6.23415938e-02 5.37384946e-02\n",
            " 4.08592959e-02 2.94449971e-02 2.15966978e-02 1.67109983e-02\n",
            " 1.40806986e-02 1.29907987e-02 1.31596987e-02 1.44027986e-02\n",
            " 1.71954983e-02 2.09961979e-02 2.67209973e-02 3.35771966e-02\n",
            " 4.19994958e-02 5.09181949e-02 5.87685941e-02 6.26007937e-02\n",
            " 6.21504938e-02 5.65470943e-02 4.68893953e-02 3.58543964e-02\n",
            " 2.57543974e-02 1.74006983e-02 1.13561989e-02 7.09619929e-03\n",
            " 4.40389956e-03 2.76129972e-03 1.84519982e-03 1.27529987e-03\n",
            " 1.02219990e-03 8.75099912e-04 8.56899914e-04 8.67299913e-04\n",
            " 1.08459989e-03 1.38329986e-03 1.84339982e-03 2.31449977e-03\n",
            " 2.56159974e-03 2.43939976e-03 1.67029983e-03 6.83399932e-04\n",
            " 1.31399987e-04 9.79999902e-06]\n"
          ]
        }
      ]
    },
    {
      "cell_type": "code",
      "source": [
        "xm = np.zeros(50)\n",
        "for idx, el in enumerate(b):\n",
        "  xm[idx] = (b[idx + 1] - b[idx])"
      ],
      "metadata": {
        "colab": {
          "base_uri": "https://localhost:8080/"
        },
        "id": "ELgmGmmeTADi",
        "outputId": "eb0204cd-bc4e-48a4-832b-f11ad7aceffb"
      },
      "execution_count": 19,
      "outputs": [
        {
          "output_type": "stream",
          "name": "stdout",
          "text": [
            "0 -1.7007175207847478\n",
            "1 -1.587708133261519\n",
            "2 -1.4746987457382903\n",
            "3 -1.3616893582150613\n",
            "4 -1.2486799706918328\n",
            "5 -1.1356705831686038\n",
            "6 -1.022661195645375\n",
            "7 -0.9096518081221463\n",
            "8 -0.7966424205989175\n",
            "9 -0.6836330330756888\n",
            "10 -0.57062364555246\n",
            "11 -0.4576142580292313\n",
            "12 -0.3446048705060023\n",
            "13 -0.23159548298277355\n",
            "14 -0.1185860954595448\n",
            "15 -0.005576707936316039\n",
            "16 0.10743267958691272\n",
            "17 0.22044206711014147\n",
            "18 0.3334514546333702\n",
            "19 0.4464608421565992\n",
            "20 0.5594702296798277\n",
            "21 0.6724796172030567\n",
            "22 0.7854890047262852\n",
            "23 0.8984983922495142\n",
            "24 1.0115077797727432\n",
            "25 1.1245171672959717\n",
            "26 1.2375265548192007\n",
            "27 1.3505359423424292\n",
            "28 1.4635453298656582\n",
            "29 1.5765547173888868\n",
            "30 1.6895641049121157\n",
            "31 1.8025734924353443\n",
            "32 1.9155828799585732\n",
            "33 2.028592267481802\n",
            "34 2.1416016550050307\n",
            "35 2.2546110425282597\n",
            "36 2.3676204300514883\n",
            "37 2.480629817574717\n",
            "38 2.593639205097946\n",
            "39 2.7066485926211747\n",
            "40 2.8196579801444033\n",
            "41 2.9326673676676327\n",
            "42 3.0456767551908612\n",
            "43 3.1586861427140898\n",
            "44 3.2716955302373183\n",
            "45 3.3847049177605477\n",
            "46 3.4977143052837762\n",
            "47 3.610723692807005\n",
            "48 3.723733080330234\n",
            "49 3.8367424678534627\n",
            "50 3.9497518553766913\n"
          ]
        }
      ]
    },
    {
      "cell_type": "markdown",
      "source": [
        "## Time average, ensemble averages, and ergodicity\n",
        "\n",
        "So far we took averages in time. But now you have calculated probabilities associated to the dynamical process, and when we have probabilities, we calculate averages in a very different way, called ensemble average:\n",
        "\n",
        "$<x> = ∑_ip_i x_i$\n",
        "\n",
        "Q: Introduce discrete states $x_i$ (eg bins), estimate the associated probabilities $p_i$, and show that the average in time and the ensemble averages are the same."
      ],
      "metadata": {
        "id": "kJMDiF25p3CI"
      }
    },
    {
      "cell_type": "code",
      "source": [
        "# time average\n",
        "\n",
        "x_t = x.mean()\n",
        "\n",
        "# ensemble average\n",
        "\n",
        "c, bins, _ = plt.hist(x, bins=50)\n",
        "\n",
        "bin_midpoint = (bins[1:] - bins[ :-1 ])/2 + bins[:-1] \n",
        "x_e = np.sum(bin_midpoint * c / c.sum()) "
      ],
      "metadata": {
        "id": "mRUz8KVzyJMS"
      },
      "execution_count": null,
      "outputs": []
    },
    {
      "cell_type": "code",
      "source": [
        "(bins[1:] - bins[ :-1 ])/2 + bins[:-1] "
      ],
      "metadata": {
        "id": "pNEAKwbt1uM5"
      },
      "execution_count": null,
      "outputs": []
    }
  ]
}